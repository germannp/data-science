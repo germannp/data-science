{
 "cells": [
  {
   "cell_type": "markdown",
   "metadata": {},
   "source": [
    "# Pandas Performance\n",
    "\n",
    "I recently ported a program based on `list`s and `dicts` of instances of some container classes to use `Pandas.DataFrame`s. While the new code was terser and saver, it was to my surprise much slower. Improving performance by vectorization was not everywhere an option, but I could improve the situation by optimizing lookups. Here are some `%timeit` stats, which should be taken with a grain of salt because results might get cached."
   ]
  },
  {
   "cell_type": "code",
   "execution_count": 1,
   "metadata": {},
   "outputs": [],
   "source": [
    "import numpy as np\n",
    "import pandas as pd"
   ]
  },
  {
   "cell_type": "code",
   "execution_count": 2,
   "metadata": {},
   "outputs": [
    {
     "name": "stdout",
     "output_type": "stream",
     "text": [
      "712 µs ± 12.9 µs per loop (mean ± std. dev. of 7 runs, 1000 loops each)\n",
      "479 ms ± 25.5 ms per loop (mean ± std. dev. of 7 runs, 1 loop each)\n"
     ]
    }
   ],
   "source": [
    "df = pd.DataFrame(np.random.rand(10000, 5), columns=[i for i in 'abcde'])\n",
    "lst = [{i: row[i] for i in 'abcde'} for _, row in df.iterrows()]\n",
    "\n",
    "%timeit pd.DataFrame(np.random.rand(10000, 5), columns=[i for i in 'abcde'])\n",
    "%timeit [{i: row[i] for i in 'abcde'} for _, row in df.iterrows()]"
   ]
  },
  {
   "cell_type": "code",
   "execution_count": 3,
   "metadata": {},
   "outputs": [
    {
     "name": "stdout",
     "output_type": "stream",
     "text": [
      "87.7 µs ± 7.32 µs per loop (mean ± std. dev. of 7 runs, 10000 loops each)\n"
     ]
    }
   ],
   "source": [
    "def vec_add(df):\n",
    "    df['b'] + df['c']\n",
    "    \n",
    "%timeit vec_add(df)"
   ]
  },
  {
   "cell_type": "code",
   "execution_count": 4,
   "metadata": {},
   "outputs": [
    {
     "name": "stdout",
     "output_type": "stream",
     "text": [
      "1.74 ms ± 119 µs per loop (mean ± std. dev. of 7 runs, 1000 loops each)\n"
     ]
    }
   ],
   "source": [
    "def iter_lst(lst):\n",
    "    for row in lst:\n",
    "        row['b'] + row['c']\n",
    "\n",
    "%timeit iter_lst(lst)"
   ]
  },
  {
   "cell_type": "code",
   "execution_count": 5,
   "metadata": {},
   "outputs": [
    {
     "name": "stdout",
     "output_type": "stream",
     "text": [
      "7.16 ms ± 1.09 ms per loop (mean ± std. dev. of 7 runs, 100 loops each)\n"
     ]
    }
   ],
   "source": [
    "def iter_tuples(df):\n",
    "    for t in df.itertuples():\n",
    "        t.b + t.c\n",
    "\n",
    "%timeit iter_tuples(df)"
   ]
  },
  {
   "cell_type": "code",
   "execution_count": 6,
   "metadata": {},
   "outputs": [
    {
     "name": "stdout",
     "output_type": "stream",
     "text": [
      "343 ms ± 41.4 ms per loop (mean ± std. dev. of 7 runs, 1 loop each)\n"
     ]
    }
   ],
   "source": [
    "def iter_rows(df):\n",
    "    for _, row in df.iterrows():\n",
    "        row['b'] + row['c']\n",
    "\n",
    "%timeit iter_rows(df)"
   ]
  },
  {
   "cell_type": "code",
   "execution_count": 17,
   "metadata": {},
   "outputs": [
    {
     "name": "stdout",
     "output_type": "stream",
     "text": [
      "11 µs ± 1.6 µs per loop (mean ± std. dev. of 7 runs, 100000 loops each)\n",
      "10.8 µs ± 647 ns per loop (mean ± std. dev. of 7 runs, 100000 loops each)\n",
      "6.04 µs ± 181 ns per loop (mean ± std. dev. of 7 runs, 100000 loops each)\n",
      "79.1 µs ± 1.66 µs per loop (mean ± std. dev. of 7 runs, 10000 loops each)\n",
      "6.84 µs ± 110 ns per loop (mean ± std. dev. of 7 runs, 100000 loops each)\n",
      "74 µs ± 12 µs per loop (mean ± std. dev. of 7 runs, 10000 loops each)\n"
     ]
    }
   ],
   "source": [
    "%timeit df['b'][3]\n",
    "%timeit df['b'].iloc[3]\n",
    "%timeit df.loc[3, 'b']\n",
    "%timeit df.loc[3]['b']\n",
    "%timeit df.iloc[3, 1]\n",
    "%timeit df.iloc[3]['b']"
   ]
  },
  {
   "cell_type": "code",
   "execution_count": 16,
   "metadata": {},
   "outputs": [
    {
     "name": "stdout",
     "output_type": "stream",
     "text": [
      "4.25 µs ± 46.5 ns per loop (mean ± std. dev. of 7 runs, 100000 loops each)\n",
      "2.95 µs ± 649 ns per loop (mean ± std. dev. of 7 runs, 100000 loops each)\n",
      "32.3 µs ± 4.42 µs per loop (mean ± std. dev. of 7 runs, 10000 loops each)\n",
      "78.7 µs ± 1.56 µs per loop (mean ± std. dev. of 7 runs, 10000 loops each)\n",
      "92.1 µs ± 8.56 µs per loop (mean ± std. dev. of 7 runs, 10000 loops each)\n"
     ]
    }
   ],
   "source": [
    "%timeit df.values[0:5, 1]\n",
    "%timeit df['b'].values[0:5]\n",
    "%timeit df['b'].iloc[0:5]\n",
    "%timeit df.iloc[0:5, 1]\n",
    "%timeit df.iloc[0:5]['b']"
   ]
  }
 ],
 "metadata": {
  "kernelspec": {
   "display_name": "Python 3",
   "language": "python",
   "name": "python3"
  },
  "language_info": {
   "codemirror_mode": {
    "name": "ipython",
    "version": 3
   },
   "file_extension": ".py",
   "mimetype": "text/x-python",
   "name": "python",
   "nbconvert_exporter": "python",
   "pygments_lexer": "ipython3",
   "version": "3.7.0"
  }
 },
 "nbformat": 4,
 "nbformat_minor": 2
}
