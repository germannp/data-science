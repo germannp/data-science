{
 "cells": [
  {
   "cell_type": "code",
   "execution_count": 1,
   "id": "259c48c7-e5a3-47df-afbc-cbc7607444ea",
   "metadata": {},
   "outputs": [],
   "source": [
    "import matplotlib.pyplot as plt\n",
    "import numpy as np\n",
    "import pandas as pd\n",
    "import seaborn as sns"
   ]
  },
  {
   "cell_type": "code",
   "execution_count": 2,
   "id": "aee2e3fc-8fef-45c0-8416-c192e4388b96",
   "metadata": {},
   "outputs": [],
   "source": [
    "%load_ext blackcellmagic"
   ]
  },
  {
   "cell_type": "code",
   "execution_count": 3,
   "id": "4416c223-2f46-4735-9e66-49075fe5a802",
   "metadata": {},
   "outputs": [],
   "source": [
    "onyx_recipes = pd.read_csv(\"data/onyx_coffee_advent_calendar_2023.csv\", index_col=0)\n",
    "onyx_recipes[\"Process\"] = onyx_recipes[\"Process\"].apply(\n",
    "    lambda process: \"Washed\" if process == \"Washed\" else \"Processed\"\n",
    ")\n",
    "onyx_recipes[\"Filter\"] = onyx_recipes[\"Filter\"].apply(\n",
    "    lambda filter_: \"Cone filter\" if \"one\" in filter_ else \"Kalita filter\"\n",
    ")\n",
    "onyx_recipes[\"Drain [min]\"] = onyx_recipes[\"Drain\"] / pd.to_timedelta(\"1min\")"
   ]
  },
  {
   "cell_type": "code",
   "execution_count": 4,
   "id": "ba3747d0-c379-4c34-b31e-59fcc7da9ed7",
   "metadata": {},
   "outputs": [
    {
     "name": "stdout",
     "output_type": "stream",
     "text": [
      "16 ~ 2.67\n",
      "20 ~ 4.00\n",
      "24 ~ 5.33\n",
      "28 ~ 6.67\n"
     ]
    }
   ],
   "source": [
    "# Data from https://honestcoffeeguide.com/coffee-grind-size-chart/\n",
    "c40_at_40 = 702.2142857142857\n",
    "ode2_at_1 = 176.78571428571428\n",
    "ode2_at_11 = 776.4642857142858 - 30\n",
    "\n",
    "c40_to_ode = {}\n",
    "gradient = 10 / (ode2_at_11 - ode2_at_1)\n",
    "offset = 1 - gradient * ode2_at_1\n",
    "for click in range(10, 43):\n",
    "    pixels_of_click = c40_at_40 * click / 40\n",
    "    ode2_at_pixels = gradient * pixels_of_click + offset\n",
    "    c40_to_ode[click] = np.round(ode2_at_pixels * 3) / 3\n",
    "\n",
    "for click in [16, 20, 24, 28]:\n",
    "    print(f\"{click} ~ {c40_to_ode[click]:.2f}\")"
   ]
  },
  {
   "cell_type": "code",
   "execution_count": 5,
   "id": "cbdee032-1c35-48cf-8345-bc99f93970d9",
   "metadata": {},
   "outputs": [
    {
     "data": {
      "image/png": "[encoded data removed]",
      "text/plain": [
       "<Figure size 432x288 with 1 Axes>"
      ]
     },
     "metadata": {
      "needs_background": "light"
     },
     "output_type": "display_data"
    }
   ],
   "source": [
    "plt.hlines(\n",
    "    c40_to_ode.values(),\n",
    "    [key - 0.4 for key in c40_to_ode.keys()],\n",
    "    [key + 0.4 for key in c40_to_ode.keys()],\n",
    "    label=\"Honest Coffee Guide\",\n",
    ")\n",
    "plt.scatter(\n",
    "    onyx_recipes[\"Comandante C40\"],\n",
    "    onyx_recipes[\"Fellow Ode Gen 2\"],\n",
    "    label=\"Onyx advent calendar\",\n",
    "    marker=\"x\",\n",
    "    color=\"tab:orange\",\n",
    ")\n",
    "plt.scatter(\n",
    "    [16, 24, 25, 30],\n",
    "    # Given microns converted using Honest Coffee Guide\n",
    "    [3.33, 5.67, 6.33, 8],\n",
    "    label=\"Orea recipes\",\n",
    "    marker=\"x\",\n",
    "    color=\"tab:green\",\n",
    ")\n",
    "plt.legend(loc=\"upper left\")\n",
    "plt.xlabel(\"Comandante C40\")\n",
    "plt.ylabel(\"Fellow Ode Gen 2\")\n",
    "plt.yticks(np.arange(1, 12, 2))\n",
    "plt.grid(which=\"both\")\n",
    "sns.despine()\n",
    "plt.show()"
   ]
  },
  {
   "cell_type": "code",
   "execution_count": null,
   "id": "cd882077-259d-4155-b454-dbb19b1936c3",
   "metadata": {},
   "outputs": [],
   "source": []
  }
 ],
 "metadata": {
  "kernelspec": {
   "display_name": "Python 3 (ipykernel)",
   "language": "python",
   "name": "python3"
  },
  "language_info": {
   "codemirror_mode": {
    "name": "ipython",
    "version": 3
   },
   "file_extension": ".py",
   "mimetype": "text/x-python",
   "name": "python",
   "nbconvert_exporter": "python",
   "pygments_lexer": "ipython3",
   "version": "3.9.7"
  }
 },
 "nbformat": 4,
 "nbformat_minor": 5
}
