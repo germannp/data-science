{
 "cells": [
  {
   "cell_type": "code",
   "execution_count": 1,
   "id": "259c48c7-e5a3-47df-afbc-cbc7607444ea",
   "metadata": {},
   "outputs": [],
   "source": [
    "import matplotlib.pyplot as plt\n",
    "import numpy as np\n",
    "import pandas as pd\n",
    "import seaborn as sns"
   ]
  },
  {
   "cell_type": "code",
   "execution_count": 2,
   "id": "aee2e3fc-8fef-45c0-8416-c192e4388b96",
   "metadata": {},
   "outputs": [],
   "source": [
    "%load_ext blackcellmagic"
   ]
  },
  {
   "cell_type": "code",
   "execution_count": 3,
   "id": "09b2a02e-99b7-428c-808b-25a9bad11a45",
   "metadata": {},
   "outputs": [
    {
     "data": {
      "image/png": "[encoded data removed]",
      "text/plain": [
       "<Figure size 432x288 with 1 Axes>"
      ]
     },
     "metadata": {
      "needs_background": "light"
     },
     "output_type": "display_data"
    }
   ],
   "source": [
    "onyx_recipes = pd.read_csv(\"data/onyx_coffee_advent_calendar_2023.csv\", index_col=0)\n",
    "\n",
    "# Orea recipes from https://www.orea.uk/guides and the printed guides.\n",
    "orea_recipes = pd.DataFrame(\n",
    "    [\n",
    "        {\"Comandante C40\": 15, \"Microns\": 450},\n",
    "        {\"Comandante C40\": 16, \"Microns\": 480},\n",
    "        {\"Comandante C40\": 18, \"Microns\": 540},\n",
    "        {\"Comandante C40\": 22, \"Microns\": 660},\n",
    "        {\"Comandante C40\": 24, \"Microns\": 700},\n",
    "        {\"Comandante C40\": 25, \"Microns\": 750},\n",
    "        {\"Comandante C40\": 26, \"Microns\": 800},\n",
    "        {\"Comandante C40\": 30, \"Microns\": 900},\n",
    "    ]\n",
    ")\n",
    "\n",
    "plt.scatter(\n",
    "    onyx_recipes[\"Comandante C40\"],\n",
    "    onyx_recipes[\"Microns\"],\n",
    "    label=\"Onyx advent calendar\",\n",
    "    marker=\"x\",\n",
    "    color=\"tab:orange\",\n",
    ")\n",
    "plt.scatter(\n",
    "    orea_recipes[\"Comandante C40\"],\n",
    "    orea_recipes[\"Microns\"],\n",
    "    label=\"Orea guides\",\n",
    "    marker=\"x\",\n",
    "    color=\"tab:red\",\n",
    ")\n",
    "plt.xlabel(\"Comandante C40\")\n",
    "plt.ylabel(\"Microns\")\n",
    "plt.legend(frameon=False)\n",
    "sns.despine()\n",
    "plt.show()"
   ]
  },
  {
   "cell_type": "code",
   "execution_count": null,
   "id": "a9eb5d34-2ac0-4df4-96e7-3e896ddced16",
   "metadata": {},
   "outputs": [],
   "source": []
  },
  {
   "cell_type": "code",
   "execution_count": 4,
   "id": "ba3747d0-c379-4c34-b31e-59fcc7da9ed7",
   "metadata": {},
   "outputs": [
    {
     "name": "stdout",
     "output_type": "stream",
     "text": [
      "16 ~ 2.67\n",
      "20 ~ 4.00\n",
      "24 ~ 5.33\n",
      "28 ~ 6.67\n"
     ]
    }
   ],
   "source": [
    "# Pixel data from https://honestcoffeeguide.com/coffee-grind-size-chart/\n",
    "pixels_at_1400_micons = 900\n",
    "c40_at_40 = 702.2142857142857\n",
    "ode2_at_1 = 176.78571428571428\n",
    "ode2_at_11 = 776.4642857142858 - 30\n",
    "\n",
    "c40_to_ode = {}\n",
    "gradient = 10 / (ode2_at_11 - ode2_at_1)\n",
    "offset = 1 - gradient * ode2_at_1\n",
    "for click in range(10, 43):\n",
    "    pixels_of_click = c40_at_40 * click / 40\n",
    "    ode2_at_pixels = gradient * pixels_of_click + offset\n",
    "    c40_to_ode[click] = np.round(ode2_at_pixels * 3) / 3\n",
    "\n",
    "for click in [16, 20, 24, 28]:\n",
    "    print(f\"{click} ~ {c40_to_ode[click]:.2f}\")"
   ]
  },
  {
   "cell_type": "code",
   "execution_count": null,
   "id": "4973fbd5-50c6-4630-b89e-981e06fe8ac6",
   "metadata": {},
   "outputs": [],
   "source": []
  },
  {
   "cell_type": "code",
   "execution_count": 5,
   "id": "cbdee032-1c35-48cf-8345-bc99f93970d9",
   "metadata": {},
   "outputs": [
    {
     "data": {
      "image/png": "[encoded data removed]",
      "text/plain": [
       "<Figure size 432x288 with 1 Axes>"
      ]
     },
     "metadata": {
      "needs_background": "light"
     },
     "output_type": "display_data"
    }
   ],
   "source": [
    "def to_ode(microns):\n",
    "    pixels_of_microns = microns / 1400 * pixels_at_1400_micons\n",
    "    ode2_at_pixels = gradient * pixels_of_microns + offset\n",
    "    return np.round(ode2_at_pixels * 3) / 3\n",
    "\n",
    "\n",
    "orea_recipes[\"Fellow Ode Gen 2\"] = orea_recipes[\"Microns\"].apply(to_ode)\n",
    "\n",
    "plt.hlines(\n",
    "    c40_to_ode.values(),\n",
    "    [key - 0.4 for key in c40_to_ode.keys()],\n",
    "    [key + 0.4 for key in c40_to_ode.keys()],\n",
    "    label=\"Honest Coffee Guide\",\n",
    ")\n",
    "plt.scatter(\n",
    "    onyx_recipes[\"Comandante C40\"],\n",
    "    onyx_recipes[\"Fellow Ode Gen 2\"],\n",
    "    label=\"Onyx advent calendar\",\n",
    "    marker=\"x\",\n",
    "    color=\"tab:orange\",\n",
    ")\n",
    "plt.scatter(\n",
    "    orea_recipes[\"Comandante C40\"],\n",
    "    orea_recipes[\"Fellow Ode Gen 2\"],\n",
    "    label=\"Orea guides\",\n",
    "    marker=\"x\",\n",
    "    color=\"tab:red\",\n",
    ")\n",
    "plt.scatter(\n",
    "    [16, 28],\n",
    "    [3.33, 6.67],\n",
    "    label=\"Me\",\n",
    "    marker=\"+\",\n",
    "    color=\"tab:green\",\n",
    ")\n",
    "plt.legend(loc=\"upper left\")\n",
    "plt.xlabel(\"Comandante C40\")\n",
    "plt.ylabel(\"Fellow Ode Gen 2\")\n",
    "plt.yticks(np.arange(1, 12, 2))\n",
    "plt.grid(which=\"both\")\n",
    "sns.despine()\n",
    "plt.show()"
   ]
  },
  {
   "cell_type": "code",
   "execution_count": null,
   "id": "cd882077-259d-4155-b454-dbb19b1936c3",
   "metadata": {},
   "outputs": [],
   "source": []
  }
 ],
 "metadata": {
  "kernelspec": {
   "display_name": "Python 3 (ipykernel)",
   "language": "python",
   "name": "python3"
  },
  "language_info": {
   "codemirror_mode": {
    "name": "ipython",
    "version": 3
   },
   "file_extension": ".py",
   "mimetype": "text/x-python",
   "name": "python",
   "nbconvert_exporter": "python",
   "pygments_lexer": "ipython3",
   "version": "3.9.7"
  }
 },
 "nbformat": 4,
 "nbformat_minor": 5
}
