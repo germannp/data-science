{
 "cells": [
  {
   "cell_type": "markdown",
   "metadata": {},
   "source": [
    "Import needed libraries"
   ]
  },
  {
   "cell_type": "code",
   "execution_count": 1,
   "metadata": {},
   "outputs": [
    {
     "name": "stdout",
     "output_type": "stream",
     "text": [
      "Using cmappertools v1.0.24.\n"
     ]
    }
   ],
   "source": [
    "import mapper\n",
    "import numpy as np\n",
    "import matplotlib.pyplot as plt"
   ]
  },
  {
   "cell_type": "markdown",
   "metadata": {},
   "source": [
    "<b>Step 1: Input data</b><br>\n",
    "    Load the circle data set, circle = $x^2 + y^2 = 1$"
   ]
  },
  {
   "cell_type": "code",
   "execution_count": 2,
   "metadata": {
    "collapsed": true
   },
   "outputs": [],
   "source": [
    "data = mapper.shapes.circle(samples=1000)"
   ]
  },
  {
   "cell_type": "markdown",
   "metadata": {},
   "source": [
    "Run the following without modification, just preprocessing some variables"
   ]
  },
  {
   "cell_type": "code",
   "execution_count": 3,
   "metadata": {
    "collapsed": true
   },
   "outputs": [],
   "source": [
    "# Preprocessing\n",
    "point_labels = None\n",
    "mask = None\n",
    "Gauss_density = mapper.filters.Gauss_density\n",
    "kNN_distance  = mapper.filters.kNN_distance\n",
    "crop = mapper.crop\n",
    "# Custom preprocessing code\n",
    "\n",
    "# End custom preprocessing code\n",
    "data, point_labels = mapper.mask_data(data, mask, point_labels)\n"
   ]
  },
  {
   "cell_type": "markdown",
   "metadata": {},
   "source": [
    "<b>Step 2: Choose metric </b><br>\n",
    "Below we are choosing to use the Euclidean metric"
   ]
  },
  {
   "cell_type": "code",
   "execution_count": 4,
   "metadata": {
    "collapsed": true
   },
   "outputs": [],
   "source": [
    "intrinsic_metric = False\n",
    "if intrinsic_metric:\n",
    "    is_vector_data = data.ndim != 1\n",
    "    if is_vector_data:\n",
    "        metric = Euclidean            # here we choose Euclidean metric\n",
    "        if metric != 'Euclidean':\n",
    "            raise ValueError('Not implemented')\n",
    "    data = mapper.metric.intrinsic_metric(data, k=1, eps=1.0)\n",
    "is_vector_data = data.ndim != 1\n"
   ]
  },
  {
   "cell_type": "markdown",
   "metadata": {},
   "source": [
    "<b>Step 3: Choose Filter function</b><br>\n",
    "Below we are choosing to use projection to first principal component"
   ]
  },
  {
   "cell_type": "code",
   "execution_count": 5,
   "metadata": {},
   "outputs": [
    {
     "name": "stdout",
     "output_type": "stream",
     "text": [
      "Eigenvalues:\n",
      "[-440.63551908]\n"
     ]
    }
   ],
   "source": [
    "if is_vector_data:\n",
    "    metricpar = {'metric': 'euclidean'}\n",
    "    f = mapper.filters.dm_eigenvector(data,\n",
    "        metricpar=metricpar,\n",
    "        k=0, mean_center=True)\n",
    "else:\n",
    "    f = mapper.filters.dm_eigenvector(data,\n",
    "        k=0, mean_center=True)\n",
    "mask = None\n",
    "crop = mapper.crop"
   ]
  },
  {
   "cell_type": "markdown",
   "metadata": {},
   "source": [
    "<b>Step 4: Select more Mapper parameters</b>\n",
    "Below we choose to use 15 intervals with 50% overlap"
   ]
  },
  {
   "cell_type": "code",
   "execution_count": 6,
   "metadata": {
    "collapsed": true
   },
   "outputs": [],
   "source": [
    "cover = mapper.cover.cube_cover_primitive(intervals=15, overlap=50.0)"
   ]
  },
  {
   "cell_type": "markdown",
   "metadata": {},
   "source": [
    "Below we choose to use single linkage clustering"
   ]
  },
  {
   "cell_type": "code",
   "execution_count": 7,
   "metadata": {
    "collapsed": true
   },
   "outputs": [],
   "source": [
    "cluster = mapper.single_linkage()"
   ]
  },
  {
   "cell_type": "markdown",
   "metadata": {},
   "source": [
    "Run the following without modification to run mapper algorithm"
   ]
  },
  {
   "cell_type": "code",
   "execution_count": 8,
   "metadata": {},
   "outputs": [
    {
     "name": "stdout",
     "output_type": "stream",
     "text": [
      "Number of CPU cores present: 8\n",
      "Start Mapper thread.\n",
      "Start Mapper thread.\n",
      "Start Mapper thread.\n",
      "Start Mapper thread.\n",
      "Start Mapper thread.\n",
      "Start Mapper thread.\n",
      "Start Mapper thread.\n",
      "Start Mapper thread.\n",
      "Mapper: Filter range in dimension 0: [-0.04, 0.04]\n",
      "Mapper: Cover: Hypercube cover. Intervals: (15,). Overlap: (50.0,)\n",
      "Mapper: Clustering: Single linkage clustering\n",
      "Mapper: Cutoff: None\n",
      "Level: (0,)\n",
      "Level: (1,)\n",
      "Level: (2,)\n",
      "Level: (3,)\n",
      "Level: (4,)\n",
      "Level: (5,)\n",
      "Level: (6,)\n",
      "Level: (7,)\n",
      "Level: (8,)\n",
      "Level: (9,)\n",
      "Level: (10,)\n",
      "Level: (11,)\n",
      "Level: (12,)\n",
      "Level: (13,)\n",
      "Level: (14,)Filter level (5,) has 76 points.Filter level (3,) has 77 points.\n",
      "Filter level (4,) has 80 points.Filter level (6,) has 78 points.\n",
      "Filter level (2,) has 85 points.\n",
      "\n",
      "Filter level (0,) has 257 points.Filter level (1,) has 134 points.\n",
      "\n",
      "Filter level (7,) has 85 points.\n",
      "\n",
      "\n",
      "Filter level (8,) has 81 points.\n",
      "Filter level (9,) has 78 points.\n",
      "Filter level (10,) has 79 points.Filter level (12,) has 103 points.\n",
      "Filter level (14,) has 237 points.\n",
      "Filter level (11,) has 89 points.\n",
      "\n",
      "Filter level (13,) has 126 points.\n",
      "Scale graph path: [1 2 2 2 2 2 2 2 2 2 2 2 2 2 1]\n",
      "There are 28 nodes.\n",
      "Generate the simplicial complex.\n",
      "Collect simplices of dimension 1:\n",
      "There are 28 simplices of dimension 1.\n",
      "Collect simplices of dimension 2:\n",
      "There are 0 simplices of dimension 2.\n",
      "Dimension: 1\n"
     ]
    }
   ],
   "source": [
    "if not is_vector_data:\n",
    "    metricpar = {}\n",
    "mapper_output = mapper.mapper(data, f,\n",
    "    cover=cover,\n",
    "    cluster=cluster,\n",
    "    point_labels=point_labels,\n",
    "    cutoff=None,\n",
    "    metricpar=metricpar)\n",
    "cutoff = mapper.cutoff.first_gap(gap=0.1)\n",
    "mapper_output.cutoff(cutoff, f, cover=cover, simple=False)\n",
    "# mapper_output.draw_scale_graph()\n",
    "# plt.savefig('scale_graph.pdf')\n",
    "# plt.show()"
   ]
  },
  {
   "cell_type": "markdown",
   "metadata": {},
   "source": [
    "<b>Step 5: Choose display parameters</b><br>\n",
    "Choose how to color the vertices (nodes) in mapper output"
   ]
  },
  {
   "cell_type": "code",
   "execution_count": 9,
   "metadata": {},
   "outputs": [],
   "source": [
    "nodes = mapper_output.nodes\n",
    "node_color = None\n",
    "point_color = data[:,0]       # coloring nodes in mapper output using average of first coordinate\n",
    "name = 'custom scheme'\n",
    "node_color = mapper_output.postprocess_node_color(node_color, point_color, point_labels)"
   ]
  },
  {
   "cell_type": "markdown",
   "metadata": {},
   "source": [
    "<b>Step 6:  Output</b><br>\n",
    "Draw TDA mapper graph"
   ]
  },
  {
   "cell_type": "code",
   "execution_count": 10,
   "metadata": {},
   "outputs": [
    {
     "data": {
      "image/png": "[encoded data removed]",
      "text/plain": [
       "<Figure size 432x288 with 1 Axes>"
      ]
     },
     "metadata": {},
     "output_type": "display_data"
    }
   ],
   "source": [
    "minsizes = []\n",
    "mapper_output.draw_2D(minsizes=minsizes,\n",
    "    node_color=node_color,\n",
    "    node_color_scheme=name)\n",
    "plt.savefig('mapper_output.pdf')\n",
    "plt.show()"
   ]
  },
  {
   "cell_type": "code",
   "execution_count": null,
   "metadata": {},
   "outputs": [],
   "source": []
  }
 ],
 "metadata": {
  "kernelspec": {
   "display_name": "Python [conda env:anaconda3]",
   "language": "python",
   "name": "conda-env-anaconda3-py"
  },
  "language_info": {
   "codemirror_mode": {
    "name": "ipython",
    "version": 3
   },
   "file_extension": ".py",
   "mimetype": "text/x-python",
   "name": "python",
   "nbconvert_exporter": "python",
   "pygments_lexer": "ipython3",
   "version": "3.5.5"
  }
 },
 "nbformat": 4,
 "nbformat_minor": 2
}
