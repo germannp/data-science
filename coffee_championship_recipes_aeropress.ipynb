{
 "cells": [
  {
   "cell_type": "markdown",
   "id": "d06fb190-6da4-45a7-b6b3-258e839c9f4b",
   "metadata": {},
   "source": [
    "# World AeroPress Championship Recipes"
   ]
  },
  {
   "cell_type": "code",
   "execution_count": 1,
   "id": "e3be0479-2ba4-42b0-8560-51e1eac00aff",
   "metadata": {},
   "outputs": [],
   "source": [
    "import matplotlib.pyplot as plt\n",
    "from matplotlib.ticker import FixedLocator, FixedFormatter\n",
    "import pandas as pd\n",
    "import seaborn as sns"
   ]
  },
  {
   "cell_type": "code",
   "execution_count": 2,
   "id": "56107c07-49d9-4957-8815-cfc9ffd2ea71",
   "metadata": {},
   "outputs": [],
   "source": [
    "%load_ext blackcellmagic\n",
    "%load_ext autoreload\n",
    "%autoreload 2"
   ]
  },
  {
   "cell_type": "code",
   "execution_count": 3,
   "id": "d38c9ecb-a028-4a9a-bd91-43ce9ed3efb9",
   "metadata": {},
   "outputs": [
    {
     "data": {
      "text/html": [
       "<div>\n",
       "<style scoped>\n",
       "    .dataframe tbody tr th:only-of-type {\n",
       "        vertical-align: middle;\n",
       "    }\n",
       "\n",
       "    .dataframe tbody tr th {\n",
       "        vertical-align: top;\n",
       "    }\n",
       "\n",
       "    .dataframe thead th {\n",
       "        text-align: right;\n",
       "    }\n",
       "</style>\n",
       "<table border=\"1\" class=\"dataframe\">\n",
       "  <thead>\n",
       "    <tr style=\"text-align: right;\">\n",
       "      <th></th>\n",
       "      <th>Year</th>\n",
       "      <th>Rank</th>\n",
       "      <th>Name</th>\n",
       "      <th>Country</th>\n",
       "      <th>Coffee [gr]</th>\n",
       "      <th>Water for brewing [gr]</th>\n",
       "      <th>Water after brew [gr]</th>\n",
       "      <th>Total Water [gr]</th>\n",
       "      <th>Temperature [°C]</th>\n",
       "      <th>Time [min]</th>\n",
       "    </tr>\n",
       "  </thead>\n",
       "  <tbody>\n",
       "    <tr>\n",
       "      <th>0</th>\n",
       "      <td>2024</td>\n",
       "      <td>1</td>\n",
       "      <td>George Stanica</td>\n",
       "      <td>Romania</td>\n",
       "      <td>18.0</td>\n",
       "      <td>100.0</td>\n",
       "      <td>50.0</td>\n",
       "      <td>150</td>\n",
       "      <td>96.0</td>\n",
       "      <td>2.17</td>\n",
       "    </tr>\n",
       "    <tr>\n",
       "      <th>1</th>\n",
       "      <td>2024</td>\n",
       "      <td>2</td>\n",
       "      <td>Sophan Nugraha</td>\n",
       "      <td>Indonesia</td>\n",
       "      <td>18.0</td>\n",
       "      <td>190.0</td>\n",
       "      <td>10.0</td>\n",
       "      <td>200</td>\n",
       "      <td>95.0</td>\n",
       "      <td>2.00</td>\n",
       "    </tr>\n",
       "    <tr>\n",
       "      <th>2</th>\n",
       "      <td>2024</td>\n",
       "      <td>3</td>\n",
       "      <td>Mahmoud Jamika</td>\n",
       "      <td>Egypt</td>\n",
       "      <td>18.0</td>\n",
       "      <td>150.0</td>\n",
       "      <td>30.0</td>\n",
       "      <td>180</td>\n",
       "      <td>80.0</td>\n",
       "      <td>2.00</td>\n",
       "    </tr>\n",
       "    <tr>\n",
       "      <th>3</th>\n",
       "      <td>2023</td>\n",
       "      <td>1</td>\n",
       "      <td>Tay Wipvasutt</td>\n",
       "      <td>Thailand</td>\n",
       "      <td>18.0</td>\n",
       "      <td>100.0</td>\n",
       "      <td>55.0</td>\n",
       "      <td>155</td>\n",
       "      <td>89.0</td>\n",
       "      <td>2.08</td>\n",
       "    </tr>\n",
       "    <tr>\n",
       "      <th>4</th>\n",
       "      <td>2023</td>\n",
       "      <td>2</td>\n",
       "      <td>Carlo Graf Bülow</td>\n",
       "      <td>Germany</td>\n",
       "      <td>18.0</td>\n",
       "      <td>160.0</td>\n",
       "      <td>NaN</td>\n",
       "      <td>160</td>\n",
       "      <td>100.0</td>\n",
       "      <td>1.83</td>\n",
       "    </tr>\n",
       "  </tbody>\n",
       "</table>\n",
       "</div>"
      ],
      "text/plain": [
       "   Year  Rank              Name    Country  Coffee [gr]  \\\n",
       "0  2024     1    George Stanica    Romania         18.0   \n",
       "1  2024     2    Sophan Nugraha  Indonesia         18.0   \n",
       "2  2024     3    Mahmoud Jamika      Egypt         18.0   \n",
       "3  2023     1     Tay Wipvasutt   Thailand         18.0   \n",
       "4  2023     2  Carlo Graf Bülow    Germany         18.0   \n",
       "\n",
       "   Water for brewing [gr]  Water after brew [gr]  Total Water [gr]  \\\n",
       "0                   100.0                   50.0               150   \n",
       "1                   190.0                   10.0               200   \n",
       "2                   150.0                   30.0               180   \n",
       "3                   100.0                   55.0               155   \n",
       "4                   160.0                    NaN               160   \n",
       "\n",
       "   Temperature [°C]  Time [min]  \n",
       "0              96.0        2.17  \n",
       "1              95.0        2.00  \n",
       "2              80.0        2.00  \n",
       "3              89.0        2.08  \n",
       "4             100.0        1.83  "
      ]
     },
     "execution_count": 3,
     "metadata": {},
     "output_type": "execute_result"
    }
   ],
   "source": [
    "recipes = pd.read_csv(\"data/aeropress.csv\")\n",
    "recipes.head()"
   ]
  },
  {
   "cell_type": "code",
   "execution_count": 4,
   "id": "a672b423-6239-4210-acb0-13d98cc34a46",
   "metadata": {},
   "outputs": [
    {
     "data": {
      "text/plain": [
       "(43, 28)"
      ]
     },
     "execution_count": 4,
     "metadata": {},
     "output_type": "execute_result"
    }
   ],
   "source": [
    "recipes[\"Name\"].nunique(), recipes[\"Country\"].nunique()"
   ]
  },
  {
   "cell_type": "code",
   "execution_count": 5,
   "id": "005ba9b2-9444-43d3-b787-40575fec7d43",
   "metadata": {},
   "outputs": [
    {
     "data": {
      "text/plain": [
       "Jeff Verellen          4\n",
       "George Stanica         1\n",
       "Charlene de Buysere    1\n",
       "Name: Name, dtype: int64"
      ]
     },
     "execution_count": 5,
     "metadata": {},
     "output_type": "execute_result"
    }
   ],
   "source": [
    "recipes[\"Name\"].value_counts()[:3]"
   ]
  },
  {
   "cell_type": "code",
   "execution_count": 6,
   "id": "a30393e0-0faa-4ce9-b99e-600012a0153c",
   "metadata": {},
   "outputs": [
    {
     "data": {
      "text/plain": [
       "Belgium        6\n",
       "USA            3\n",
       "Norway         3\n",
       "Denmark        2\n",
       "Poland         2\n",
       "Japan          2\n",
       "Slovakia       2\n",
       "France         2\n",
       "Netherlands    2\n",
       "Finland        2\n",
       "Name: Country, dtype: int64"
      ]
     },
     "execution_count": 6,
     "metadata": {},
     "output_type": "execute_result"
    }
   ],
   "source": [
    "recipes[\"Country\"].value_counts()[:10]"
   ]
  },
  {
   "cell_type": "code",
   "execution_count": 11,
   "id": "01eddca4-cbb2-43c6-b24e-be765a1b3894",
   "metadata": {},
   "outputs": [
    {
     "data": {
      "image/png": "[encoded data removed]",
      "text/plain": [
       "<Figure size 727.2x410.4 with 3 Axes>"
      ]
     },
     "metadata": {
      "needs_background": "light"
     },
     "output_type": "display_data"
    }
   ],
   "source": [
    "year_rank = lambda recipe: recipe[\"Year\"] + (7 - 2 * recipe[\"Rank\"]) / 6\n",
    "\n",
    "fig, ax = plt.subplots(\n",
    "    3, 1, figsize=[10.1, 5.7], sharex=True, gridspec_kw={\"height_ratios\": [5, 1, 1]}\n",
    ")\n",
    "plt.suptitle(\"World AeroPress Championship Recipes\")\n",
    "\n",
    "alpha = 0.75\n",
    "\n",
    "ax[0].set_ylabel(\"Weight [gr]\")\n",
    "ax[0].bar(\n",
    "    x=year_rank(recipes),\n",
    "    height=-recipes[\"Coffee [gr]\"],\n",
    "    width=0.25,\n",
    "    color=\"C5\",\n",
    "    alpha=alpha,\n",
    "    label=\"Coffee\",\n",
    ")\n",
    "ax[0].bar(\n",
    "    x=year_rank(recipes),\n",
    "    height=recipes[\"Water for brewing [gr]\"],\n",
    "    width=0.25,\n",
    "    hatch=\"..\",\n",
    "    color=\"C0\",\n",
    "    alpha=alpha,\n",
    "    label=\"Brew water\",\n",
    ")\n",
    "ax[0].bar(\n",
    "    x=year_rank(recipes),\n",
    "    bottom=recipes[\"Water for brewing [gr]\"],\n",
    "    height=recipes[\"Water after brew [gr]\"],\n",
    "    width=0.25,\n",
    "    color=\"C0\",\n",
    "    alpha=alpha,\n",
    "    label=\"Dilution\",\n",
    ")\n",
    "\n",
    "# Oldest reference I could find on 200ml rule was 2021:\n",
    "# https://manlycoffee.tumblr.com/post/20242539158/rules-japan-aeropress-championships-2012\n",
    "ax[0].hlines(200, 2012.1, 2020.1, color=\"C3\", linestyle=\":\")\n",
    "ax[0].hlines(150, 2020.9, 2025.1, color=\"C3\", linestyle=\":\")\n",
    "ax[0].hlines(-18, 2020.9, 2025.1, color=\"C3\", linestyle=\":\", label=\"Rules\")\n",
    "ax[0].annotate(\n",
    "    \"?\",\n",
    "    (2012.08, 200),\n",
    "    horizontalalignment=\"right\",\n",
    "    verticalalignment=\"center\",\n",
    "    color=\"C3\",\n",
    "    fontsize=18,\n",
    ")\n",
    "\n",
    "handles, labels = ax[0].get_legend_handles_labels()\n",
    "ax[0].legend(\n",
    "    handles[1:4] + [handles[0]],\n",
    "    labels[1:4] + [labels[0]],\n",
    "    frameon=False,\n",
    ")\n",
    "\n",
    "ax[1].set_ylabel(\"Temp. [°C]\")\n",
    "ax[1].bar(\n",
    "    x=year_rank(recipes),\n",
    "    height=recipes[\"Temperature [°C]\"],\n",
    "    width=0.25,\n",
    "    color=\"C3\",\n",
    "    alpha=alpha,\n",
    ")\n",
    "ax[1].set_ylim(70)\n",
    "\n",
    "ax[2].set_ylabel(\"Time [min]\")\n",
    "ax[2].bar(\n",
    "    x=year_rank(recipes),\n",
    "    height=recipes[\"Time [min]\"],\n",
    "    width=0.25,\n",
    "    color=\"C5\",\n",
    "    alpha=alpha,\n",
    ")\n",
    "\n",
    "ax[2].set_xlim(2008.9, 2025.1)\n",
    "ax[2].set_xticks(range(2009, recipes[\"Year\"].max() + 1))\n",
    "ax[2].set_xticklabels(\n",
    "    range(2009, recipes[\"Year\"].max() + 1),\n",
    "    rotation=60,\n",
    "    rotation_mode=\"anchor\",\n",
    "    ha=\"right\",\n",
    ")\n",
    "ax[2].xaxis.set_minor_locator(FixedLocator(recipes.apply(year_rank, axis=1)))\n",
    "ax[2].xaxis.set_minor_formatter(FixedFormatter([\"1\", \"2\", \"3\"] * 15))\n",
    "\n",
    "ax[2].set_yticks([0, 2, 4])\n",
    "\n",
    "plt.tight_layout()\n",
    "sns.despine()\n",
    "plt.savefig(\"wac-recipes.png\", transparent=False, facecolor=\"white\", dpi=150)\n",
    "plt.show()"
   ]
  },
  {
   "cell_type": "code",
   "execution_count": null,
   "id": "5b7d0a70-5ae9-452b-9395-84acfd7dbbf9",
   "metadata": {},
   "outputs": [],
   "source": []
  }
 ],
 "metadata": {
  "kernelspec": {
   "display_name": "Python 3 (ipykernel)",
   "language": "python",
   "name": "python3"
  },
  "language_info": {
   "codemirror_mode": {
    "name": "ipython",
    "version": 3
   },
   "file_extension": ".py",
   "mimetype": "text/x-python",
   "name": "python",
   "nbconvert_exporter": "python",
   "pygments_lexer": "ipython3",
   "version": "3.9.7"
  }
 },
 "nbformat": 4,
 "nbformat_minor": 5
}
