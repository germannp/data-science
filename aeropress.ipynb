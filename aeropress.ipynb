{
 "cells": [
  {
   "cell_type": "markdown",
   "id": "d06fb190-6da4-45a7-b6b3-258e839c9f4b",
   "metadata": {},
   "source": [
    "# World AeroPress Championship Recipes"
   ]
  },
  {
   "cell_type": "code",
   "execution_count": 1,
   "id": "e3be0479-2ba4-42b0-8560-51e1eac00aff",
   "metadata": {},
   "outputs": [],
   "source": [
    "import matplotlib.pyplot as plt\n",
    "import pandas as pd\n",
    "import seaborn as sns"
   ]
  },
  {
   "cell_type": "code",
   "execution_count": 3,
   "id": "d38c9ecb-a028-4a9a-bd91-43ce9ed3efb9",
   "metadata": {},
   "outputs": [
    {
     "data": {
      "text/html": [
       "<div>\n",
       "<style scoped>\n",
       "    .dataframe tbody tr th:only-of-type {\n",
       "        vertical-align: middle;\n",
       "    }\n",
       "\n",
       "    .dataframe tbody tr th {\n",
       "        vertical-align: top;\n",
       "    }\n",
       "\n",
       "    .dataframe thead th {\n",
       "        text-align: right;\n",
       "    }\n",
       "</style>\n",
       "<table border=\"1\" class=\"dataframe\">\n",
       "  <thead>\n",
       "    <tr style=\"text-align: right;\">\n",
       "      <th></th>\n",
       "      <th>Year</th>\n",
       "      <th>Rank</th>\n",
       "      <th>Name</th>\n",
       "      <th>Country</th>\n",
       "      <th>Coffee [gr]</th>\n",
       "      <th>Water for brewing [gr]</th>\n",
       "      <th>Water after brew [gr]</th>\n",
       "      <th>Total Water [gr]</th>\n",
       "      <th>Temperature [°C]</th>\n",
       "      <th>Time [min]</th>\n",
       "    </tr>\n",
       "  </thead>\n",
       "  <tbody>\n",
       "    <tr>\n",
       "      <th>0</th>\n",
       "      <td>2021</td>\n",
       "      <td>1</td>\n",
       "      <td>Tuomas Merikanto</td>\n",
       "      <td>Finland</td>\n",
       "      <td>18.0</td>\n",
       "      <td>200.0</td>\n",
       "      <td>NaN</td>\n",
       "      <td>200</td>\n",
       "      <td>80</td>\n",
       "      <td>2.00</td>\n",
       "    </tr>\n",
       "    <tr>\n",
       "      <th>1</th>\n",
       "      <td>2021</td>\n",
       "      <td>2</td>\n",
       "      <td>Maru Mallee</td>\n",
       "      <td>Netherlands</td>\n",
       "      <td>18.0</td>\n",
       "      <td>150.0</td>\n",
       "      <td>36.0</td>\n",
       "      <td>186</td>\n",
       "      <td>93</td>\n",
       "      <td>2.25</td>\n",
       "    </tr>\n",
       "    <tr>\n",
       "      <th>2</th>\n",
       "      <td>2021</td>\n",
       "      <td>3</td>\n",
       "      <td>Brandon Smith</td>\n",
       "      <td>South Africa</td>\n",
       "      <td>18.0</td>\n",
       "      <td>140.0</td>\n",
       "      <td>80.0</td>\n",
       "      <td>220</td>\n",
       "      <td>88</td>\n",
       "      <td>2.00</td>\n",
       "    </tr>\n",
       "    <tr>\n",
       "      <th>3</th>\n",
       "      <td>2019</td>\n",
       "      <td>1</td>\n",
       "      <td>Wndelien van Bunnik</td>\n",
       "      <td>Netherlands</td>\n",
       "      <td>30.0</td>\n",
       "      <td>100.0</td>\n",
       "      <td>120.0</td>\n",
       "      <td>220</td>\n",
       "      <td>92</td>\n",
       "      <td>1.00</td>\n",
       "    </tr>\n",
       "    <tr>\n",
       "      <th>4</th>\n",
       "      <td>2019</td>\n",
       "      <td>2</td>\n",
       "      <td>Benja Khemacheva</td>\n",
       "      <td>Thailand</td>\n",
       "      <td>35.0</td>\n",
       "      <td>100.0</td>\n",
       "      <td>110.0</td>\n",
       "      <td>210</td>\n",
       "      <td>94</td>\n",
       "      <td>1.75</td>\n",
       "    </tr>\n",
       "  </tbody>\n",
       "</table>\n",
       "</div>"
      ],
      "text/plain": [
       "   Year  Rank                 Name       Country  Coffee [gr]  \\\n",
       "0  2021     1     Tuomas Merikanto       Finland         18.0   \n",
       "1  2021     2          Maru Mallee   Netherlands         18.0   \n",
       "2  2021     3        Brandon Smith  South Africa         18.0   \n",
       "3  2019     1  Wndelien van Bunnik   Netherlands         30.0   \n",
       "4  2019     2     Benja Khemacheva      Thailand         35.0   \n",
       "\n",
       "   Water for brewing [gr]  Water after brew [gr]  Total Water [gr]  \\\n",
       "0                   200.0                    NaN               200   \n",
       "1                   150.0                   36.0               186   \n",
       "2                   140.0                   80.0               220   \n",
       "3                   100.0                  120.0               220   \n",
       "4                   100.0                  110.0               210   \n",
       "\n",
       "  Temperature [°C]  Time [min]  \n",
       "0               80        2.00  \n",
       "1               93        2.25  \n",
       "2               88        2.00  \n",
       "3               92        1.00  \n",
       "4               94        1.75  "
      ]
     },
     "execution_count": 3,
     "metadata": {},
     "output_type": "execute_result"
    }
   ],
   "source": [
    "recipes = pd.read_csv(\"data/aeropress.csv\")\n",
    "recipes.head()"
   ]
  },
  {
   "cell_type": "code",
   "execution_count": 36,
   "id": "a672b423-6239-4210-acb0-13d98cc34a46",
   "metadata": {},
   "outputs": [
    {
     "data": {
      "text/plain": [
       "(34, 22)"
      ]
     },
     "execution_count": 36,
     "metadata": {},
     "output_type": "execute_result"
    }
   ],
   "source": [
    "recipes[\"Name\"].nunique(), recipes[\"Country\"].nunique()"
   ]
  },
  {
   "cell_type": "code",
   "execution_count": 32,
   "id": "005ba9b2-9444-43d3-b787-40575fec7d43",
   "metadata": {},
   "outputs": [
    {
     "data": {
      "text/plain": [
       "Jeff Verellen       4\n",
       "Tuomas Merikanto    1\n",
       "Emil Eriksson       1\n",
       "Name: Name, dtype: int64"
      ]
     },
     "execution_count": 32,
     "metadata": {},
     "output_type": "execute_result"
    }
   ],
   "source": [
    "recipes[\"Name\"].value_counts()[:3]"
   ]
  },
  {
   "cell_type": "code",
   "execution_count": 34,
   "id": "a30393e0-0faa-4ce9-b99e-600012a0153c",
   "metadata": {},
   "outputs": [
    {
     "data": {
      "text/plain": [
       "Belgium        5\n",
       "Norway         3\n",
       "USA            3\n",
       "Finland        2\n",
       "Japan          2\n",
       "Slovakia       2\n",
       "Netherlands    2\n",
       "Poland         2\n",
       "France         2\n",
       "Denmark        2\n",
       "Name: Country, dtype: int64"
      ]
     },
     "execution_count": 34,
     "metadata": {},
     "output_type": "execute_result"
    }
   ],
   "source": [
    "recipes[\"Country\"].value_counts()[:10]"
   ]
  },
  {
   "cell_type": "code",
   "execution_count": 30,
   "id": "4a09c693-911f-44ba-89d2-53346856d264",
   "metadata": {},
   "outputs": [
    {
     "data": {
      "image/png": "[encoded data removed]",
      "text/plain": [
       "<Figure size 363.6x205.2 with 1 Axes>"
      ]
     },
     "metadata": {
      "needs_background": "light"
     },
     "output_type": "display_data"
    }
   ],
   "source": [
    "plt.figure(figsize=[5.05, 2.85])\n",
    "sns.scatterplot(\n",
    "    data=recipes[recipes[\"Total Water [gr]\"] > 0],\n",
    "    x=\"Total Water [gr]\",\n",
    "    y=\"Coffee [gr]\",\n",
    "    hue=\"Year\",\n",
    "    style=recipes[recipes[\"Total Water [gr]\"] > 0][\"Year\"].apply(\n",
    "        lambda year: year == 2021\n",
    "    ),\n",
    ")\n",
    "sns.despine()\n",
    "handles, labels = plt.gca().get_legend_handles_labels()\n",
    "plt.legend(\n",
    "    handles[:-2] + [handles[-1]],\n",
    "    labels[:-2] + [\"2021\"],\n",
    "    frameon=False,\n",
    "    bbox_to_anchor=(1.04, 1),\n",
    "    loc=\"upper left\",\n",
    ")\n",
    "plt.tight_layout()\n",
    "plt.savefig(\"ratio.png\", transparent=False, dpi=300)\n",
    "plt.show()"
   ]
  },
  {
   "cell_type": "code",
   "execution_count": null,
   "id": "727ac360-5b2e-4413-9a97-c7d20ab87976",
   "metadata": {},
   "outputs": [],
   "source": []
  },
  {
   "cell_type": "code",
   "execution_count": null,
   "id": "01eddca4-cbb2-43c6-b24e-be765a1b3894",
   "metadata": {},
   "outputs": [],
   "source": []
  },
  {
   "cell_type": "code",
   "execution_count": null,
   "id": "39dd492c-f35c-4986-b7c2-dac8f3231282",
   "metadata": {},
   "outputs": [],
   "source": []
  },
  {
   "cell_type": "code",
   "execution_count": null,
   "id": "a0ad3c08-61d5-4e98-a2ba-c7a62abfa010",
   "metadata": {},
   "outputs": [],
   "source": []
  },
  {
   "cell_type": "code",
   "execution_count": null,
   "id": "896986d7-feab-4092-abaf-782596388bd8",
   "metadata": {},
   "outputs": [],
   "source": [
    "plt.figure(figsize=[5.05, 2.85])\n",
    "plt.plot(\n",
    "    samples.groupby(\"positivity\")[\"n_positive_pools\"].median(),\n",
    "    label=\"Median\",\n",
    ")\n",
    "plt.fill_between(\n",
    "    samples[\"positivity\"].unique(),\n",
    "    samples.groupby(\"positivity\")[\"n_positive_pools\"].min(),\n",
    "    samples.groupby(\"positivity\")[\"n_positive_pools\"].max(),\n",
    "    alpha=0.25,\n",
    "    label=\"Range\",\n",
    ")\n",
    "plt.hlines(\n",
    "    n_positive_pools,\n",
    "    min(positivities),\n",
    "    max(positivities),\n",
    "    ls=\":\",\n",
    "    color=\"C1\",\n",
    "    label=\"After holidays\",\n",
    ")\n",
    "plt.title(f\"{n_persons} persons in {n_pools} pools\")\n",
    "plt.xlabel(\"Positivity\")\n",
    "plt.ylabel(\"Positive pools\")\n",
    "sns.despine()\n",
    "plt.legend(frameon=False, loc=\"center right\")\n",
    "plt.tight_layout()\n",
    "plt.savefig(\"pools.png\", transparent=False, dpi=300)\n",
    "plt.show()"
   ]
  }
 ],
 "metadata": {
  "kernelspec": {
   "display_name": "Python 3 (ipykernel)",
   "language": "python",
   "name": "python3"
  },
  "language_info": {
   "codemirror_mode": {
    "name": "ipython",
    "version": 3
   },
   "file_extension": ".py",
   "mimetype": "text/x-python",
   "name": "python",
   "nbconvert_exporter": "python",
   "pygments_lexer": "ipython3",
   "version": "3.9.7"
  }
 },
 "nbformat": 4,
 "nbformat_minor": 5
}
